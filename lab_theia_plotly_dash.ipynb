{
 "cells": [
  {
   "cell_type": "code",
   "execution_count": 2,
   "id": "2d6d1bdd",
   "metadata": {},
   "outputs": [
    {
     "name": "stdout",
     "output_type": "stream",
     "text": [
      "Defaulting to user installation because normal site-packages is not writeable\n",
      "Requirement already satisfied: pandas in c:\\anaconda\\lib\\site-packages (1.4.2)\n",
      "Requirement already satisfied: dash in c:\\users\\hermann\\appdata\\roaming\\python\\python39\\site-packages (1.19.0)\n",
      "Requirement already satisfied: python-dateutil>=2.8.1 in c:\\anaconda\\lib\\site-packages (from pandas) (2.8.2)\n",
      "Requirement already satisfied: pytz>=2020.1 in c:\\anaconda\\lib\\site-packages (from pandas) (2021.3)\n",
      "Requirement already satisfied: numpy>=1.18.5 in c:\\anaconda\\lib\\site-packages (from pandas) (1.21.5)\n",
      "Requirement already satisfied: future in c:\\anaconda\\lib\\site-packages (from dash) (0.18.2)\n",
      "Requirement already satisfied: dash-html-components==1.1.2 in c:\\users\\hermann\\appdata\\roaming\\python\\python39\\site-packages (from dash) (1.1.2)\n",
      "Requirement already satisfied: dash-table==4.11.2 in c:\\users\\hermann\\appdata\\roaming\\python\\python39\\site-packages (from dash) (4.11.2)\n",
      "Requirement already satisfied: dash-renderer==1.9.0 in c:\\users\\hermann\\appdata\\roaming\\python\\python39\\site-packages (from dash) (1.9.0)\n",
      "Requirement already satisfied: plotly in c:\\users\\hermann\\appdata\\roaming\\python\\python39\\site-packages (from dash) (5.10.0)\n",
      "Requirement already satisfied: Flask>=1.0.4 in c:\\anaconda\\lib\\site-packages (from dash) (1.1.2)\n",
      "Requirement already satisfied: flask-compress in c:\\anaconda\\lib\\site-packages (from dash) (1.12)\n",
      "Requirement already satisfied: dash-core-components==1.15.0 in c:\\users\\hermann\\appdata\\roaming\\python\\python39\\site-packages (from dash) (1.15.0)\n",
      "Requirement already satisfied: Jinja2>=2.10.1 in c:\\anaconda\\lib\\site-packages (from Flask>=1.0.4->dash) (2.11.3)\n",
      "Requirement already satisfied: itsdangerous>=0.24 in c:\\anaconda\\lib\\site-packages (from Flask>=1.0.4->dash) (2.0.1)\n",
      "Requirement already satisfied: click>=5.1 in c:\\anaconda\\lib\\site-packages (from Flask>=1.0.4->dash) (8.0.4)\n",
      "Requirement already satisfied: Werkzeug>=0.15 in c:\\anaconda\\lib\\site-packages (from Flask>=1.0.4->dash) (2.0.3)\n",
      "Requirement already satisfied: colorama in c:\\anaconda\\lib\\site-packages (from click>=5.1->Flask>=1.0.4->dash) (0.4.4)\n",
      "Requirement already satisfied: MarkupSafe>=0.23 in c:\\anaconda\\lib\\site-packages (from Jinja2>=2.10.1->Flask>=1.0.4->dash) (2.0.1)\n",
      "Requirement already satisfied: six>=1.5 in c:\\anaconda\\lib\\site-packages (from python-dateutil>=2.8.1->pandas) (1.16.0)\n",
      "Requirement already satisfied: brotli in c:\\anaconda\\lib\\site-packages (from flask-compress->dash) (1.0.9)\n",
      "Requirement already satisfied: tenacity>=6.2.0 in c:\\anaconda\\lib\\site-packages (from plotly->dash) (8.0.1)\n",
      "Note: you may need to restart the kernel to use updated packages.\n"
     ]
    }
   ],
   "source": [
    "pip install pandas dash"
   ]
  },
  {
   "cell_type": "code",
   "execution_count": 3,
   "id": "a005aab0",
   "metadata": {},
   "outputs": [
    {
     "name": "stdout",
     "output_type": "stream",
     "text": [
      "Defaulting to user installation because normal site-packages is not writeable\n",
      "Requirement already satisfied: wget in c:\\anaconda\\lib\\site-packages (3.2)\n",
      "Note: you may need to restart the kernel to use updated packages.\n"
     ]
    }
   ],
   "source": [
    "pip install wget"
   ]
  },
  {
   "cell_type": "code",
   "execution_count": 4,
   "id": "9f940e0f",
   "metadata": {},
   "outputs": [
    {
     "name": "stdout",
     "output_type": "stream",
     "text": [
      "\n",
      "Saved under spacex_launch_dash (1).csv\n",
      "Dash is running on http://127.0.0.1:8050/\n",
      "\n",
      " * Serving Flask app \"__main__\" (lazy loading)\n",
      " * Environment: production\n",
      "\u001b[31m   WARNING: This is a development server. Do not use it in a production deployment.\u001b[0m\n",
      "\u001b[2m   Use a production WSGI server instead.\u001b[0m\n",
      " * Debug mode: off\n"
     ]
    },
    {
     "name": "stderr",
     "output_type": "stream",
     "text": [
      " * Running on http://127.0.0.1:8050/ (Press CTRL+C to quit)\n",
      "127.0.0.1 - - [20/Aug/2022 09:22:37] \"GET / HTTP/1.1\" 200 -\n",
      "127.0.0.1 - - [20/Aug/2022 09:22:38] \"GET /_dash-layout HTTP/1.1\" 200 -\n",
      "127.0.0.1 - - [20/Aug/2022 09:22:38] \"GET /_dash-dependencies HTTP/1.1\" 200 -\n",
      "127.0.0.1 - - [20/Aug/2022 09:22:41] \"POST /_dash-update-component HTTP/1.1\" 200 -\n",
      "127.0.0.1 - - [20/Aug/2022 09:22:41] \"POST /_dash-update-component HTTP/1.1\" 200 -\n",
      "127.0.0.1 - - [20/Aug/2022 09:22:49] \"POST /_dash-update-component HTTP/1.1\" 200 -\n",
      "127.0.0.1 - - [20/Aug/2022 09:22:52] \"POST /_dash-update-component HTTP/1.1\" 200 -\n",
      "C:\\Users\\Hermann\\AppData\\Local\\Temp\\ipykernel_4560\\501710585.py:92: UserWarning:\n",
      "\n",
      "Boolean Series key will be reindexed to match DataFrame index.\n",
      "\n",
      "127.0.0.1 - - [20/Aug/2022 09:22:53] \"POST /_dash-update-component HTTP/1.1\" 200 -\n",
      "127.0.0.1 - - [20/Aug/2022 09:23:01] \"GET /_dash-component-suites/dash_core_components/async-graph.js.map HTTP/1.1\" 200 -\n",
      "127.0.0.1 - - [20/Aug/2022 09:23:01] \"GET /_dash-component-suites/dash_core_components/dash_core_components-shared.js.map HTTP/1.1\" 200 -\n",
      "127.0.0.1 - - [20/Aug/2022 09:23:01] \"GET /_dash-component-suites/dash_core_components/async-dropdown.js.map HTTP/1.1\" 200 -\n",
      "127.0.0.1 - - [20/Aug/2022 09:23:01] \"GET /_dash-component-suites/dash_core_components/async-slider.js.map HTTP/1.1\" 200 -\n",
      "127.0.0.1 - - [20/Aug/2022 09:23:01] \"GET /_dash-component-suites/dash_html_components/dash_html_components.min.js.map HTTP/1.1\" 200 -\n",
      "127.0.0.1 - - [20/Aug/2022 09:23:01] \"GET /_dash-component-suites/dash_core_components/dash_core_components.min.js.map HTTP/1.1\" 200 -\n"
     ]
    }
   ],
   "source": [
    "# Import required libraries\n",
    "import pandas as pd\n",
    "import dash\n",
    "import dash_html_components as html\n",
    "import dash_core_components as dcc\n",
    "from dash.dependencies import Input, Output\n",
    "import plotly.express as px\n",
    "\n",
    "#download csv file\n",
    "!python -m wget https://cf-courses-data.s3.us.cloud-object-storage.appdomain.cloud/IBM-DS0321EN-SkillsNetwork/datasets/spacex_launch_dash.csv\n",
    "\n",
    "# Read the airline data into pandas dataframe\n",
    "spacex_df = pd.read_csv(\"spacex_launch_dash.csv\")\n",
    "max_payload = spacex_df['Payload Mass (kg)'].max()\n",
    "min_payload = spacex_df['Payload Mass (kg)'].min()\n",
    "\n",
    "# Create a dash application\n",
    "app = dash.Dash(__name__)\n",
    "\n",
    "# Create an app layout\n",
    "app.layout = html.Div(children=[html.H1('SpaceX Launch Records Dashboard',\n",
    "                                        style={'textAlign': 'center', 'color': '#503D36',\n",
    "                                               'font-size': 40}),\n",
    "                                # TASK 1: Add a dropdown list to enable Launch Site selection\n",
    "                                # The default select value is for ALL sites\n",
    "                                dcc.Dropdown(id='site-dropdown',\n",
    "                                options=[{'label': 'All Sites', 'value': 'All Sites'},\n",
    "                                {'label': 'CCAFS LC-40', 'value': 'CCAFS LC-40'},\n",
    "                                {'label': 'CCAFS SLC-40', 'value': 'CCAFS SLC-40'},\n",
    "                                {'label': 'KSC LC-39A', 'value': 'KSC LC-39A'},\n",
    "                                {'label': 'VAFB SLC-4E', 'value': 'VAFB SLC-4E'}],\n",
    "                                             value='All Sites',\n",
    "                                placeholder='Select a Launch Site here',\n",
    "                                searchable=True),\n",
    "                                html.Br(),\n",
    "\n",
    "                                # TASK 2: Add a pie chart to show the total successful launches count for all sites\n",
    "                                # If a specific launch site was selected, show the Success vs. Failed counts for the site\n",
    "                                html.Div(dcc.Graph(id='success-pie-chart')),\n",
    "                                html.Br(),\n",
    "\n",
    "                                html.P(\"Payload range (Kg):\"),\n",
    "                                # TASK 3: Add a slider to select payload range\n",
    "                                dcc.RangeSlider(id='payload-slider',min=0, max=10000,step=1000,\n",
    "                                                marks={0: '0', 2500: '2500',5000: '5000',10000: '10000'},\n",
    "                                                value=[min_payload,max_payload]),\n",
    "\n",
    "                                # TASK 4: Add a scatter chart to show the correlation between payload and launch success\n",
    "                                html.Div(dcc.Graph(id='success-payload-scatter-chart')),\n",
    "                                ])\n",
    "\n",
    "# TASK 2:\n",
    "# Add a callback function for `site-dropdown` as input, `success-pie-chart` as output\n",
    "# Function decorator to specify function input and output\n",
    "@app.callback(Output(component_id='success-pie-chart', component_property='figure'),\n",
    "              Input(component_id='site-dropdown', component_property='value'))\n",
    "\n",
    "def get_pie_chart(entered_site):\n",
    "    \n",
    "    filtered_df = spacex_df[spacex_df['Launch Site'] == entered_site]\n",
    "    \n",
    "    if entered_site == 'All Sites':\n",
    "        fig = px.pie(spacex_df, values='class', \n",
    "        names='Launch Site', \n",
    "        title='Total Success Launch by Site')\n",
    "        return fig\n",
    "            \n",
    "    else:\n",
    "        # return the outcomes piechart for a selected site\n",
    "        fig = px.pie(filtered_df['class'].value_counts().reset_index(), values='class',\n",
    "        names='index',\n",
    "        title=f'Total Success Launch for {entered_site}')\n",
    "        return fig\n",
    "\n",
    "# TASK 4:\n",
    "# Add a callback function for `site-dropdown` and `payload-slider` as inputs, `success-payload-scatter-chart` as output\n",
    "@app.callback(\n",
    "    Output(component_id='success-payload-scatter-chart', component_property='figure'),\n",
    "    Input(component_id='site-dropdown', component_property='value'),\n",
    "    Input(component_id=\"payload-slider\", component_property=\"value\"))\n",
    "\n",
    "def get_scatter_chart(entered_site,slider_range):\n",
    "    \n",
    "    low, high = slider_range\n",
    "    mask = (spacex_df['Payload Mass (kg)'] > low) & (spacex_df['Payload Mass (kg)'] < high)\n",
    "    filtered_df = spacex_df[spacex_df['Launch Site'] == entered_site]    \n",
    "        \n",
    "    if entered_site==\"All Sites\":\n",
    "        graf = px.scatter(spacex_df[mask], x=\"Payload Mass (kg)\", y=\"class\", color='Booster Version Category')\n",
    "        return graf\n",
    "    else:\n",
    "        graf = px.scatter(filtered_df[mask], x=\"Payload Mass (kg)\", y=\"class\", color='Booster Version Category')\n",
    "        return graf\n",
    "        \n",
    "\n",
    "\n",
    "# Run the app\n",
    "if __name__ == '__main__':\n",
    "    app.run_server()\n"
   ]
  },
  {
   "cell_type": "code",
   "execution_count": null,
   "id": "8afac426",
   "metadata": {},
   "outputs": [],
   "source": []
  }
 ],
 "metadata": {
  "kernelspec": {
   "display_name": "Python 3 (ipykernel)",
   "language": "python",
   "name": "python3"
  },
  "language_info": {
   "codemirror_mode": {
    "name": "ipython",
    "version": 3
   },
   "file_extension": ".py",
   "mimetype": "text/x-python",
   "name": "python",
   "nbconvert_exporter": "python",
   "pygments_lexer": "ipython3",
   "version": "3.9.12"
  }
 },
 "nbformat": 4,
 "nbformat_minor": 5
}
